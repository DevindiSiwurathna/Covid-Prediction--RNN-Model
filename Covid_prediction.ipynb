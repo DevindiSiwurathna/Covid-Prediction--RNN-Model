{
  "nbformat": 4,
  "nbformat_minor": 0,
  "metadata": {
    "colab": {
      "name": "Covid prediction.ipynb",
      "provenance": [],
      "collapsed_sections": [],
      "include_colab_link": true
    },
    "kernelspec": {
      "display_name": "Python 3",
      "name": "python3"
    },
    "language_info": {
      "name": "python"
    }
  },
  "cells": [
    {
      "cell_type": "markdown",
      "metadata": {
        "id": "view-in-github",
        "colab_type": "text"
      },
      "source": [
        "<a href=\"https://colab.research.google.com/github/DevindiSiwurathna/Covid-Prediction--RNN-Model/blob/main/Covid_prediction.ipynb\" target=\"_parent\"><img src=\"https://colab.research.google.com/assets/colab-badge.svg\" alt=\"Open In Colab\"/></a>"
      ]
    },
    {
      "cell_type": "code",
      "metadata": {
        "id": "1gvfb7MNnuCn"
      },
      "source": [
        "#importing libraries\n",
        "import numpy as np\n",
        "import matplotlib.pyplot as plt\n",
        "import pandas as pd\n",
        "import tensorflow as tf\n",
        "from tensorflow import keras"
      ],
      "execution_count": 3,
      "outputs": []
    },
    {
      "cell_type": "code",
      "metadata": {
        "id": "2eveRKm71M22"
      },
      "source": [
        "#import training data set\n",
        "dataset_train=pd.read_csv('/content/raw_response_train1.csv')\n",
        "training_set=dataset_train.iloc[:,1:2].values   \n"
      ],
      "execution_count": null,
      "outputs": []
    },
    {
      "cell_type": "code",
      "metadata": {
        "colab": {
          "base_uri": "https://localhost:8080/"
        },
        "id": "RSriuIZj0dWa",
        "outputId": "3141d940-4d73-49b0-dcc3-d962e0dc970c"
      },
      "source": [
        "dataset_train.shape"
      ],
      "execution_count": 5,
      "outputs": [
        {
          "output_type": "execute_result",
          "data": {
            "text/plain": [
              "(533, 2)"
            ]
          },
          "metadata": {},
          "execution_count": 5
        }
      ]
    },
    {
      "cell_type": "code",
      "metadata": {
        "id": "WCd-gAYQ1H-7"
      },
      "source": [
        "#feature scaling (normalization)\n",
        "\n",
        "from sklearn.preprocessing import MinMaxScaler\n",
        "scale=MinMaxScaler(feature_range=(0,1))\n",
        "training_set_scaled=scale.fit_transform(training_set)\n",
        "\n"
      ],
      "execution_count": 6,
      "outputs": []
    },
    {
      "cell_type": "code",
      "metadata": {
        "id": "GJHYOhPVnIWC"
      },
      "source": [
        "X_train = []\n",
        "y_train = []\n",
        "for i in range(60, 532):\n",
        "    X_train.append(training_set_scaled[i-60:i, 0])\n",
        "    y_train.append(training_set_scaled[i, 0])\n",
        "X_train, y_train = np.array(X_train), np.array(y_train)"
      ],
      "execution_count": 7,
      "outputs": []
    },
    {
      "cell_type": "code",
      "metadata": {
        "id": "l3u8CV541D1h"
      },
      "source": [
        "#reshape to make in format for keras function\n",
        "X_train = np.reshape(X_train, (X_train.shape[0], X_train.shape[1], 1))\n"
      ],
      "execution_count": 8,
      "outputs": []
    },
    {
      "cell_type": "code",
      "metadata": {
        "id": "-MK5O07m0_EV"
      },
      "source": [
        "#importing packages and libraries\n",
        "from keras.models import Sequential\n",
        "from keras.layers import Dense\n",
        "from keras.layers import LSTM\n",
        "from keras.layers import Dropout"
      ],
      "execution_count": 9,
      "outputs": []
    },
    {
      "cell_type": "code",
      "metadata": {
        "id": "AHiynTWS4Mky"
      },
      "source": [
        "from keras.preprocessing.sequence import TimeseriesGenerator\n",
        "\n",
        "generator = TimeseriesGenerator(training_set_scaled, training_set_scaled, length=X_train.shape[1], batch_size=10)"
      ],
      "execution_count": 10,
      "outputs": []
    },
    {
      "cell_type": "code",
      "metadata": {
        "id": "Igppus5F08D3"
      },
      "source": [
        "\n",
        "#initialise RNN\n",
        "regressor=Sequential()\n",
        "\n",
        "regressor.add(LSTM(units=50,return_sequences = True,input_shape=(X_train.shape[1], 1)))\n",
        "regressor.add(Dropout(0.2))\n",
        "\n",
        "regressor.add(LSTM(units = 50, return_sequences = True))\n",
        "regressor.add(Dropout(0.2))\n",
        "\n",
        "regressor.add(LSTM(units = 50, return_sequences = True))\n",
        "regressor.add(Dropout(0.2))\n",
        "\n",
        "regressor.add(LSTM(units = 50))\n",
        "\n",
        "regressor.add(Dense(units=1))"
      ],
      "execution_count": 11,
      "outputs": []
    },
    {
      "cell_type": "code",
      "metadata": {
        "id": "XWOlagNq01bm"
      },
      "source": [
        "\n",
        "regressor.compile(optimizer='adam', loss='mean_squared_error')\n"
      ],
      "execution_count": 12,
      "outputs": []
    },
    {
      "cell_type": "code",
      "metadata": {
        "colab": {
          "base_uri": "https://localhost:8080/"
        },
        "id": "yTLaDU_p0vjn",
        "outputId": "f09f7cdb-1b63-4189-82cf-78a5fb3db72e"
      },
      "source": [
        "#fitting the RNN\n",
        "\n",
        "history = regressor.fit(generator,epochs=100)\n",
        "\n"
      ],
      "execution_count": 13,
      "outputs": [
        {
          "output_type": "stream",
          "name": "stdout",
          "text": [
            "Epoch 1/100\n",
            "48/48 [==============================] - 11s 97ms/step - loss: 0.0236\n",
            "Epoch 2/100\n",
            "48/48 [==============================] - 5s 97ms/step - loss: 0.0112\n",
            "Epoch 3/100\n",
            "48/48 [==============================] - 5s 98ms/step - loss: 0.0089\n",
            "Epoch 4/100\n",
            "48/48 [==============================] - 5s 96ms/step - loss: 0.0062\n",
            "Epoch 5/100\n",
            "48/48 [==============================] - 5s 97ms/step - loss: 0.0052\n",
            "Epoch 6/100\n",
            "48/48 [==============================] - 5s 97ms/step - loss: 0.0043\n",
            "Epoch 7/100\n",
            "48/48 [==============================] - 5s 98ms/step - loss: 0.0041\n",
            "Epoch 8/100\n",
            "48/48 [==============================] - 5s 97ms/step - loss: 0.0034\n",
            "Epoch 9/100\n",
            "48/48 [==============================] - 5s 97ms/step - loss: 0.0037\n",
            "Epoch 10/100\n",
            "48/48 [==============================] - 5s 99ms/step - loss: 0.0043\n",
            "Epoch 11/100\n",
            "48/48 [==============================] - 5s 97ms/step - loss: 0.0030\n",
            "Epoch 12/100\n",
            "48/48 [==============================] - 5s 95ms/step - loss: 0.0028\n",
            "Epoch 13/100\n",
            "48/48 [==============================] - 5s 98ms/step - loss: 0.0031\n",
            "Epoch 14/100\n",
            "48/48 [==============================] - 5s 96ms/step - loss: 0.0032\n",
            "Epoch 15/100\n",
            "48/48 [==============================] - 5s 96ms/step - loss: 0.0041\n",
            "Epoch 16/100\n",
            "48/48 [==============================] - 5s 98ms/step - loss: 0.0029\n",
            "Epoch 17/100\n",
            "48/48 [==============================] - 5s 99ms/step - loss: 0.0037\n",
            "Epoch 18/100\n",
            "48/48 [==============================] - 5s 98ms/step - loss: 0.0048\n",
            "Epoch 19/100\n",
            "48/48 [==============================] - 5s 97ms/step - loss: 0.0036\n",
            "Epoch 20/100\n",
            "48/48 [==============================] - 5s 97ms/step - loss: 0.0032\n",
            "Epoch 21/100\n",
            "48/48 [==============================] - 5s 99ms/step - loss: 0.0029\n",
            "Epoch 22/100\n",
            "48/48 [==============================] - 5s 97ms/step - loss: 0.0039\n",
            "Epoch 23/100\n",
            "48/48 [==============================] - 5s 97ms/step - loss: 0.0038\n",
            "Epoch 24/100\n",
            "48/48 [==============================] - 5s 98ms/step - loss: 0.0084\n",
            "Epoch 25/100\n",
            "48/48 [==============================] - 5s 98ms/step - loss: 0.0040\n",
            "Epoch 26/100\n",
            "48/48 [==============================] - 5s 98ms/step - loss: 0.0028\n",
            "Epoch 27/100\n",
            "48/48 [==============================] - 5s 98ms/step - loss: 0.0029\n",
            "Epoch 28/100\n",
            "48/48 [==============================] - 5s 98ms/step - loss: 0.0030\n",
            "Epoch 29/100\n",
            "48/48 [==============================] - 5s 97ms/step - loss: 0.0031\n",
            "Epoch 30/100\n",
            "48/48 [==============================] - 5s 98ms/step - loss: 0.0029\n",
            "Epoch 31/100\n",
            "48/48 [==============================] - 5s 97ms/step - loss: 0.0035\n",
            "Epoch 32/100\n",
            "48/48 [==============================] - 5s 97ms/step - loss: 0.0040\n",
            "Epoch 33/100\n",
            "48/48 [==============================] - 5s 96ms/step - loss: 0.0027\n",
            "Epoch 34/100\n",
            "48/48 [==============================] - 5s 97ms/step - loss: 0.0031\n",
            "Epoch 35/100\n",
            "48/48 [==============================] - 5s 97ms/step - loss: 0.0050\n",
            "Epoch 36/100\n",
            "48/48 [==============================] - 5s 96ms/step - loss: 0.0039\n",
            "Epoch 37/100\n",
            "48/48 [==============================] - 5s 99ms/step - loss: 0.0030\n",
            "Epoch 38/100\n",
            "48/48 [==============================] - 5s 97ms/step - loss: 0.0029\n",
            "Epoch 39/100\n",
            "48/48 [==============================] - 5s 97ms/step - loss: 0.0028\n",
            "Epoch 40/100\n",
            "48/48 [==============================] - 5s 98ms/step - loss: 0.0030\n",
            "Epoch 41/100\n",
            "48/48 [==============================] - 5s 98ms/step - loss: 0.0027\n",
            "Epoch 42/100\n",
            "48/48 [==============================] - 5s 98ms/step - loss: 0.0025\n",
            "Epoch 43/100\n",
            "48/48 [==============================] - 5s 96ms/step - loss: 0.0028\n",
            "Epoch 44/100\n",
            "48/48 [==============================] - 5s 98ms/step - loss: 0.0029\n",
            "Epoch 45/100\n",
            "48/48 [==============================] - 5s 96ms/step - loss: 0.0028\n",
            "Epoch 46/100\n",
            "48/48 [==============================] - 5s 96ms/step - loss: 0.0038\n",
            "Epoch 47/100\n",
            "48/48 [==============================] - 5s 97ms/step - loss: 0.0039\n",
            "Epoch 48/100\n",
            "48/48 [==============================] - 5s 97ms/step - loss: 0.0032\n",
            "Epoch 49/100\n",
            "48/48 [==============================] - 5s 96ms/step - loss: 0.0029\n",
            "Epoch 50/100\n",
            "48/48 [==============================] - 5s 97ms/step - loss: 0.0028\n",
            "Epoch 51/100\n",
            "48/48 [==============================] - 5s 98ms/step - loss: 0.0034\n",
            "Epoch 52/100\n",
            "48/48 [==============================] - 5s 96ms/step - loss: 0.0028\n",
            "Epoch 53/100\n",
            "48/48 [==============================] - 5s 96ms/step - loss: 0.0026\n",
            "Epoch 54/100\n",
            "48/48 [==============================] - 5s 97ms/step - loss: 0.0026\n",
            "Epoch 55/100\n",
            "48/48 [==============================] - 5s 97ms/step - loss: 0.0028\n",
            "Epoch 56/100\n",
            "48/48 [==============================] - 5s 96ms/step - loss: 0.0038\n",
            "Epoch 57/100\n",
            "48/48 [==============================] - 5s 97ms/step - loss: 0.0029\n",
            "Epoch 58/100\n",
            "48/48 [==============================] - 5s 97ms/step - loss: 0.0026\n",
            "Epoch 59/100\n",
            "48/48 [==============================] - 5s 97ms/step - loss: 0.0030\n",
            "Epoch 60/100\n",
            "48/48 [==============================] - 5s 96ms/step - loss: 0.0023\n",
            "Epoch 61/100\n",
            "48/48 [==============================] - 5s 96ms/step - loss: 0.0029\n",
            "Epoch 62/100\n",
            "48/48 [==============================] - 5s 97ms/step - loss: 0.0037\n",
            "Epoch 63/100\n",
            "48/48 [==============================] - 5s 97ms/step - loss: 0.0028\n",
            "Epoch 64/100\n",
            "48/48 [==============================] - 5s 97ms/step - loss: 0.0040\n",
            "Epoch 65/100\n",
            "48/48 [==============================] - 5s 97ms/step - loss: 0.0028\n",
            "Epoch 66/100\n",
            "48/48 [==============================] - 5s 98ms/step - loss: 0.0028\n",
            "Epoch 67/100\n",
            "48/48 [==============================] - 5s 96ms/step - loss: 0.0029\n",
            "Epoch 68/100\n",
            "48/48 [==============================] - 5s 97ms/step - loss: 0.0025\n",
            "Epoch 69/100\n",
            "48/48 [==============================] - 5s 97ms/step - loss: 0.0028\n",
            "Epoch 70/100\n",
            "48/48 [==============================] - 5s 97ms/step - loss: 0.0032\n",
            "Epoch 71/100\n",
            "48/48 [==============================] - 5s 98ms/step - loss: 0.0035\n",
            "Epoch 72/100\n",
            "48/48 [==============================] - 5s 96ms/step - loss: 0.0028\n",
            "Epoch 73/100\n",
            "48/48 [==============================] - 5s 98ms/step - loss: 0.0024\n",
            "Epoch 74/100\n",
            "48/48 [==============================] - 5s 97ms/step - loss: 0.0026\n",
            "Epoch 75/100\n",
            "48/48 [==============================] - 5s 98ms/step - loss: 0.0042\n",
            "Epoch 76/100\n",
            "48/48 [==============================] - 5s 98ms/step - loss: 0.0043\n",
            "Epoch 77/100\n",
            "48/48 [==============================] - 5s 98ms/step - loss: 0.0030\n",
            "Epoch 78/100\n",
            "48/48 [==============================] - 5s 99ms/step - loss: 0.0028\n",
            "Epoch 79/100\n",
            "48/48 [==============================] - 5s 99ms/step - loss: 0.0026\n",
            "Epoch 80/100\n",
            "48/48 [==============================] - 5s 97ms/step - loss: 0.0026\n",
            "Epoch 81/100\n",
            "48/48 [==============================] - 5s 99ms/step - loss: 0.0035\n",
            "Epoch 82/100\n",
            "48/48 [==============================] - 5s 98ms/step - loss: 0.0035\n",
            "Epoch 83/100\n",
            "48/48 [==============================] - 5s 97ms/step - loss: 0.0025\n",
            "Epoch 84/100\n",
            "48/48 [==============================] - 5s 98ms/step - loss: 0.0031\n",
            "Epoch 85/100\n",
            "48/48 [==============================] - 5s 97ms/step - loss: 0.0031\n",
            "Epoch 86/100\n",
            "48/48 [==============================] - 5s 97ms/step - loss: 0.0028\n",
            "Epoch 87/100\n",
            "48/48 [==============================] - 5s 97ms/step - loss: 0.0028\n",
            "Epoch 88/100\n",
            "48/48 [==============================] - 5s 97ms/step - loss: 0.0026\n",
            "Epoch 89/100\n",
            "48/48 [==============================] - 5s 96ms/step - loss: 0.0026\n",
            "Epoch 90/100\n",
            "48/48 [==============================] - 5s 97ms/step - loss: 0.0028\n",
            "Epoch 91/100\n",
            "48/48 [==============================] - 5s 98ms/step - loss: 0.0032\n",
            "Epoch 92/100\n",
            "48/48 [==============================] - 5s 99ms/step - loss: 0.0038\n",
            "Epoch 93/100\n",
            "48/48 [==============================] - 5s 98ms/step - loss: 0.0036\n",
            "Epoch 94/100\n",
            "48/48 [==============================] - 5s 97ms/step - loss: 0.0031\n",
            "Epoch 95/100\n",
            "48/48 [==============================] - 5s 97ms/step - loss: 0.0028\n",
            "Epoch 96/100\n",
            "48/48 [==============================] - 5s 97ms/step - loss: 0.0030\n",
            "Epoch 97/100\n",
            "48/48 [==============================] - 5s 97ms/step - loss: 0.0026\n",
            "Epoch 98/100\n",
            "48/48 [==============================] - 5s 99ms/step - loss: 0.0024\n",
            "Epoch 99/100\n",
            "48/48 [==============================] - 5s 98ms/step - loss: 0.0026\n",
            "Epoch 100/100\n",
            "48/48 [==============================] - 5s 97ms/step - loss: 0.0027\n"
          ]
        }
      ]
    },
    {
      "cell_type": "code",
      "metadata": {
        "colab": {
          "base_uri": "https://localhost:8080/"
        },
        "id": "yA4k5NYletVi",
        "outputId": "3891ac37-cd73-4b37-92c4-a1be59d844b6"
      },
      "source": [
        "print(history.history.keys())"
      ],
      "execution_count": 14,
      "outputs": [
        {
          "output_type": "stream",
          "name": "stdout",
          "text": [
            "dict_keys(['loss'])\n"
          ]
        }
      ]
    },
    {
      "cell_type": "code",
      "metadata": {
        "colab": {
          "base_uri": "https://localhost:8080/",
          "height": 203
        },
        "id": "BiGAVwbEGEvA",
        "outputId": "31635a25-0b48-461b-c000-4c9b79ab3aef"
      },
      "source": [
        "hist = pd.DataFrame(history.history)\n",
        "hist['epoch'] = history.epoch\n",
        "hist.tail()"
      ],
      "execution_count": 15,
      "outputs": [
        {
          "output_type": "execute_result",
          "data": {
            "text/html": [
              "<div>\n",
              "<style scoped>\n",
              "    .dataframe tbody tr th:only-of-type {\n",
              "        vertical-align: middle;\n",
              "    }\n",
              "\n",
              "    .dataframe tbody tr th {\n",
              "        vertical-align: top;\n",
              "    }\n",
              "\n",
              "    .dataframe thead th {\n",
              "        text-align: right;\n",
              "    }\n",
              "</style>\n",
              "<table border=\"1\" class=\"dataframe\">\n",
              "  <thead>\n",
              "    <tr style=\"text-align: right;\">\n",
              "      <th></th>\n",
              "      <th>loss</th>\n",
              "      <th>epoch</th>\n",
              "    </tr>\n",
              "  </thead>\n",
              "  <tbody>\n",
              "    <tr>\n",
              "      <th>95</th>\n",
              "      <td>0.002969</td>\n",
              "      <td>95</td>\n",
              "    </tr>\n",
              "    <tr>\n",
              "      <th>96</th>\n",
              "      <td>0.002616</td>\n",
              "      <td>96</td>\n",
              "    </tr>\n",
              "    <tr>\n",
              "      <th>97</th>\n",
              "      <td>0.002382</td>\n",
              "      <td>97</td>\n",
              "    </tr>\n",
              "    <tr>\n",
              "      <th>98</th>\n",
              "      <td>0.002644</td>\n",
              "      <td>98</td>\n",
              "    </tr>\n",
              "    <tr>\n",
              "      <th>99</th>\n",
              "      <td>0.002689</td>\n",
              "      <td>99</td>\n",
              "    </tr>\n",
              "  </tbody>\n",
              "</table>\n",
              "</div>"
            ],
            "text/plain": [
              "        loss  epoch\n",
              "95  0.002969     95\n",
              "96  0.002616     96\n",
              "97  0.002382     97\n",
              "98  0.002644     98\n",
              "99  0.002689     99"
            ]
          },
          "metadata": {},
          "execution_count": 15
        }
      ]
    },
    {
      "cell_type": "code",
      "metadata": {
        "colab": {
          "base_uri": "https://localhost:8080/",
          "height": 295
        },
        "id": "YRaQB3NhfBEb",
        "outputId": "6e7c73c1-7795-4127-9df4-b7c315b3a957"
      },
      "source": [
        "\n",
        "plt.plot(history.history['loss'])\n",
        "plt.title('Loss Variation')\n",
        "plt.ylabel('Loss')\n",
        "plt.xlabel('epoch')\n",
        "plt.legend(['loss'], loc='upper left')\n",
        "plt.show()"
      ],
      "execution_count": 16,
      "outputs": [
        {
          "output_type": "display_data",
          "data": {
            "image/png": "[encoded data removed]",
            "text/plain": [
              "<Figure size 432x288 with 1 Axes>"
            ]
          },
          "metadata": {
            "needs_background": "light"
          }
        }
      ]
    },
    {
      "cell_type": "code",
      "metadata": {
        "id": "3lebEbvQ0vgW"
      },
      "source": [
        "#prediction and visulaizing the result\n",
        "dataset_test=pd.read_csv('raw_response_test.csv')\n",
        "real_count=dataset_test.iloc[:,1:2].values   #we need a matrix instead of vector for future calculations so[:,1:2] and not [:,1]\n"
      ],
      "execution_count": 17,
      "outputs": []
    },
    {
      "cell_type": "code",
      "metadata": {
        "id": "WD9eJ1u_pGO5"
      },
      "source": [
        "dataset_total = pd.concat((dataset_train['count'], dataset_test['count']), axis = 0)\n",
        "inputs = dataset_total[len(dataset_total) - len(dataset_test) - 60:].values\n",
        "inputs = inputs.reshape(-1,1)\n",
        "inputs = scale.transform(inputs)\n",
        "X_test = []\n",
        "for i in range(60, 90):\n",
        "    X_test.append(inputs[i-60:i, 0])\n",
        "X_test = np.array(X_test)\n",
        "X_test = np.reshape(X_test, (X_test.shape[0], X_test.shape[1], 1))\n",
        "predicted_count = regressor.predict(X_test)\n",
        "predicted_count = scale.inverse_transform(predicted_count)"
      ],
      "execution_count": 18,
      "outputs": []
    },
    {
      "cell_type": "code",
      "metadata": {
        "colab": {
          "base_uri": "https://localhost:8080/",
          "height": 295
        },
        "id": "VXNIltbM0qCo",
        "outputId": "dfd3ba06-c82a-4f31-b645-752bd538d8d6"
      },
      "source": [
        "#visualising the results\n",
        "plt.plot(real_count,color='red',label='Real Infection Count')\n",
        "plt.plot(predicted_count,color='blue',label='Predicted Infection count')\n",
        "plt.title('Covid-19 Infection Prediction')\n",
        "plt.xlabel('Time')\n",
        "plt.ylabel('Infection Count')\n",
        "plt.legend()\n",
        "plt.show()"
      ],
      "execution_count": 19,
      "outputs": [
        {
          "output_type": "display_data",
          "data": {
            "image/png": "[encoded data removed]",
            "text/plain": [
              "<Figure size 432x288 with 1 Axes>"
            ]
          },
          "metadata": {
            "needs_background": "light"
          }
        }
      ]
    },
    {
      "cell_type": "code",
      "metadata": {
        "id": "6FE3jr9PrhcL"
      },
      "source": [
        ""
      ],
      "execution_count": 19,
      "outputs": []
    }
  ]
}